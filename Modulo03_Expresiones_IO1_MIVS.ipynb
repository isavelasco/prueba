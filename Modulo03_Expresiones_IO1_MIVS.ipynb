{
 "cells": [
  {
   "cell_type": "markdown",
   "metadata": {
    "slideshow": {
     "slide_type": "slide"
    }
   },
   "source": [
    "<h1 align=\"center\">Fundamentos de Programación</h1>\n",
    "<h1 align=\"center\">Módulo 03: Expresiones, I/O</h1>\n",
    "<h1 align=\"center\">2021/02</h1>\n",
    "<h1 align=\"center\">MEDELLÍN - COLOMBIA </h1>"
   ]
  },
  {
   "cell_type": "markdown",
   "metadata": {},
   "source": [
    "<table>\n",
    " <tr align=left><td><img align=left src=\"https://github.com/carlosalvarezh/Fundamentos_Programacion/blob/main/images/CC-BY.png?raw=true\">\n",
    " <td>Text provided under a Creative Commons Attribution license, CC-BY. All code is made available under the FSF-approved MIT license.(c) Carlos Alberto Alvarez Henao</td>\n",
    "</table>"
   ]
  },
  {
   "cell_type": "markdown",
   "metadata": {},
   "source": [
    "*** \n",
    "***Docente:*** Carlos Alberto Álvarez Henao, I.C. D.Sc.\n",
    "\n",
    "***e-mail:*** carlosalvarezh@gmail.com\n",
    "\n",
    "***skype:*** carlos.alberto.alvarez.henao\n",
    "\n",
    "***Linkedin:*** https://www.linkedin.com/in/carlosalvarez5/\n",
    "\n",
    "***github:*** https://github.com/carlosalvarezh/Fundamentos_Programacion\n",
    "\n",
    "***Herramienta:*** [Jupyter Notebook](http://jupyter.org/)\n",
    "\n",
    "***Kernel:*** Python 3.8\n",
    "***"
   ]
  },
  {
   "cell_type": "markdown",
   "metadata": {},
   "source": [
    "<a id='TOC'></a>"
   ]
  },
  {
   "cell_type": "markdown",
   "metadata": {
    "toc": true
   },
   "source": [
    "<h1>Table of Contents<span class=\"tocSkip\"></span></h1>\n",
    "<div class=\"toc\"><ul class=\"toc-item\"><li><span><a href=\"#Mi-primer-Programa-en-Python\" data-toc-modified-id=\"Mi-primer-Programa-en-Python-1\"><span class=\"toc-item-num\">1&nbsp;&nbsp;</span>Mi primer Programa en Python</a></span><ul class=\"toc-item\"><li><span><a href=\"#Valores,-Tipos,-Variables,-Expresiones-y-Sentencias\" data-toc-modified-id=\"Valores,-Tipos,-Variables,-Expresiones-y-Sentencias-1.1\"><span class=\"toc-item-num\">1.1&nbsp;&nbsp;</span>Valores, Tipos, Variables, Expresiones y Sentencias</a></span><ul class=\"toc-item\"><li><span><a href=\"#Valores-y-Tipos\" data-toc-modified-id=\"Valores-y-Tipos-1.1.1\"><span class=\"toc-item-num\">1.1.1&nbsp;&nbsp;</span>Valores y Tipos</a></span></li><li><span><a href=\"#Variables\" data-toc-modified-id=\"Variables-1.1.2\"><span class=\"toc-item-num\">1.1.2&nbsp;&nbsp;</span>Variables</a></span></li><li><span><a href=\"#Nombre-de-Variables-y-Palabras-Claves-(keywords)\" data-toc-modified-id=\"Nombre-de-Variables-y-Palabras-Claves-(keywords)-1.1.3\"><span class=\"toc-item-num\">1.1.3&nbsp;&nbsp;</span>Nombre de Variables y Palabras Claves (keywords)</a></span></li><li><span><a href=\"#Palabras-Clave-(keywords)-y-funciones-integradas-(builtins)\" data-toc-modified-id=\"Palabras-Clave-(keywords)-y-funciones-integradas-(builtins)-1.1.4\"><span class=\"toc-item-num\">1.1.4&nbsp;&nbsp;</span>Palabras Clave (keywords) y funciones integradas (builtins)</a></span></li><li><span><a href=\"#Ayuda-(documentación)\" data-toc-modified-id=\"Ayuda-(documentación)-1.1.5\"><span class=\"toc-item-num\">1.1.5&nbsp;&nbsp;</span>Ayuda (documentación)</a></span></li><li><span><a href=\"#Asignación-Múltiple\" data-toc-modified-id=\"Asignación-Múltiple-1.1.6\"><span class=\"toc-item-num\">1.1.6&nbsp;&nbsp;</span>Asignación Múltiple</a></span></li></ul></li><li><span><a href=\"#Operadores-y-Operandos\" data-toc-modified-id=\"Operadores-y-Operandos-1.2\"><span class=\"toc-item-num\">1.2&nbsp;&nbsp;</span>Operadores y Operandos</a></span><ul class=\"toc-item\"><li><span><a href=\"#Operadores\" data-toc-modified-id=\"Operadores-1.2.1\"><span class=\"toc-item-num\">1.2.1&nbsp;&nbsp;</span>Operadores</a></span></li><li><span><a href=\"#Booleanos-(o-de-comparación)\" data-toc-modified-id=\"Booleanos-(o-de-comparación)-1.2.2\"><span class=\"toc-item-num\">1.2.2&nbsp;&nbsp;</span>Booleanos (o de comparación)</a></span></li><li><span><a href=\"#Lógicos\" data-toc-modified-id=\"Lógicos-1.2.3\"><span class=\"toc-item-num\">1.2.3&nbsp;&nbsp;</span>Lógicos</a></span></li></ul></li></ul></li><li><span><a href=\"#Expresiones-y-Sentencias\" data-toc-modified-id=\"Expresiones-y-Sentencias-2\"><span class=\"toc-item-num\">2&nbsp;&nbsp;</span>Expresiones y Sentencias</a></span><ul class=\"toc-item\"><li><span><a href=\"#Orden-de-las-operaciones\" data-toc-modified-id=\"Orden-de-las-operaciones-2.1\"><span class=\"toc-item-num\">2.1&nbsp;&nbsp;</span>Orden de las operaciones</a></span></li><li><span><a href=\"#Comentarios\" data-toc-modified-id=\"Comentarios-2.2\"><span class=\"toc-item-num\">2.2&nbsp;&nbsp;</span>Comentarios</a></span></li></ul></li><li><span><a href=\"#Operaciones-con-Cadenas-de-Caracteres-(strings)\" data-toc-modified-id=\"Operaciones-con-Cadenas-de-Caracteres-(strings)-3\"><span class=\"toc-item-num\">3&nbsp;&nbsp;</span>Operaciones con Cadenas de Caracteres (<em>strings</em>)</a></span><ul class=\"toc-item\"><li><span><a href=\"#Concatenación\" data-toc-modified-id=\"Concatenación-3.1\"><span class=\"toc-item-num\">3.1&nbsp;&nbsp;</span>Concatenación</a></span></li><li><span><a href=\"#Repetición\" data-toc-modified-id=\"Repetición-3.2\"><span class=\"toc-item-num\">3.2&nbsp;&nbsp;</span>Repetición</a></span></li><li><span><a href=\"#Indexación\" data-toc-modified-id=\"Indexación-3.3\"><span class=\"toc-item-num\">3.3&nbsp;&nbsp;</span>Indexación</a></span></li><li><span><a href=\"#Partición-(slicing)\" data-toc-modified-id=\"Partición-(slicing)-3.4\"><span class=\"toc-item-num\">3.4&nbsp;&nbsp;</span>Partición (slicing)</a></span></li></ul></li><li><span><a href=\"#I/O-Estándar\" data-toc-modified-id=\"I/O-Estándar-4\"><span class=\"toc-item-num\">4&nbsp;&nbsp;</span>I/O Estándar</a></span><ul class=\"toc-item\"><li><span><a href=\"#Formatación-a-la-&quot;antigua&quot;\" data-toc-modified-id=\"Formatación-a-la-&quot;antigua&quot;-4.1\"><span class=\"toc-item-num\">4.1&nbsp;&nbsp;</span>Formatación a la \"antigua\"</a></span></li><li><span><a href=\"#Formatos-de-salida\" data-toc-modified-id=\"Formatos-de-salida-4.2\"><span class=\"toc-item-num\">4.2&nbsp;&nbsp;</span>Formatos de salida</a></span></li><li><span><a href=\"#Formatación-Pytonista-(string-format)\" data-toc-modified-id=\"Formatación-Pytonista-(string-format)-4.3\"><span class=\"toc-item-num\">4.3&nbsp;&nbsp;</span>Formatación <em>Pytonista</em> (string format)</a></span></li><li><span><a href=\"#Salto-de-Línea-\\n\" data-toc-modified-id=\"Salto-de-Línea-\\n-4.4\"><span class=\"toc-item-num\">4.4&nbsp;&nbsp;</span>Salto de Línea <code>\\n</code></a></span></li></ul></li><li><span><a href=\"#Laboratorio\" data-toc-modified-id=\"Laboratorio-5\"><span class=\"toc-item-num\">5&nbsp;&nbsp;</span>Laboratorio</a></span></li></ul></div>"
   ]
  },
  {
   "cell_type": "markdown",
   "metadata": {},
   "source": [
    "<p float=\"center\">\n",
    "  <img src=\"https://github.com/carlosalvarezh/FundamentosProgramacion/blob/main/images/Sem03Img00.gif?raw=true\" width=\"500\" />\n",
    "</p>\n"
   ]
  },
  {
   "cell_type": "markdown",
   "metadata": {},
   "source": [
    "## Mi primer Programa en Python"
   ]
  },
  {
   "cell_type": "code",
   "execution_count": null,
   "metadata": {},
   "outputs": [],
   "source": [
    "print(\"Este es mi primer programa en Python!!!\")\n",
    "print(\"Hola Mundo en Python 3!\")"
   ]
  },
  {
   "cell_type": "code",
   "execution_count": null,
   "metadata": {},
   "outputs": [],
   "source": []
  },
  {
   "cell_type": "code",
   "execution_count": null,
   "metadata": {},
   "outputs": [],
   "source": [
    "print(3+4)"
   ]
  },
  {
   "cell_type": "code",
   "execution_count": null,
   "metadata": {},
   "outputs": [],
   "source": []
  },
  {
   "cell_type": "markdown",
   "metadata": {
    "slideshow": {
     "slide_type": "slide"
    }
   },
   "source": [
    "### Valores, Tipos, Variables, Expresiones y Sentencias"
   ]
  },
  {
   "cell_type": "markdown",
   "metadata": {},
   "source": [
    "#### Valores y Tipos"
   ]
  },
  {
   "cell_type": "code",
   "execution_count": null,
   "metadata": {
    "slideshow": {
     "slide_type": "subslide"
    }
   },
   "outputs": [],
   "source": [
    "c = True\n",
    "\n",
    "type(c)"
   ]
  },
  {
   "cell_type": "code",
   "execution_count": null,
   "metadata": {
    "slideshow": {
     "slide_type": "subslide"
    }
   },
   "outputs": [],
   "source": [
    "type(\"Hola Mundo!\")"
   ]
  },
  {
   "cell_type": "code",
   "execution_count": null,
   "metadata": {
    "slideshow": {
     "slide_type": "subslide"
    }
   },
   "outputs": [],
   "source": [
    "type(17)"
   ]
  },
  {
   "cell_type": "code",
   "execution_count": null,
   "metadata": {
    "slideshow": {
     "slide_type": "subslide"
    }
   },
   "outputs": [],
   "source": [
    "type(17.)"
   ]
  },
  {
   "cell_type": "code",
   "execution_count": null,
   "metadata": {
    "slideshow": {
     "slide_type": "subslide"
    }
   },
   "outputs": [],
   "source": [
    "type(3+2j)"
   ]
  },
  {
   "cell_type": "code",
   "execution_count": null,
   "metadata": {
    "slideshow": {
     "slide_type": "subslide"
    }
   },
   "outputs": [],
   "source": [
    "type(\"17.0\")"
   ]
  },
  {
   "cell_type": "code",
   "execution_count": null,
   "metadata": {
    "slideshow": {
     "slide_type": "subslide"
    }
   },
   "outputs": [],
   "source": [
    "type('string')"
   ]
  },
  {
   "cell_type": "code",
   "execution_count": null,
   "metadata": {
    "slideshow": {
     "slide_type": "subslide"
    }
   },
   "outputs": [],
   "source": [
    "z = 1,000,0000,000,00 #Producirá un error de semántica\n",
    "print(type(z))\n",
    "print(z)"
   ]
  },
  {
   "cell_type": "code",
   "execution_count": null,
   "metadata": {
    "slideshow": {
     "slide_type": "subslide"
    }
   },
   "outputs": [],
   "source": [
    "1.000.000.000 #Producirá un error de sintáxis"
   ]
  },
  {
   "cell_type": "code",
   "execution_count": null,
   "metadata": {},
   "outputs": [],
   "source": [
    "1000000000000.8678568"
   ]
  },
  {
   "cell_type": "markdown",
   "metadata": {
    "slideshow": {
     "slide_type": "slide"
    }
   },
   "source": [
    "#### Variables"
   ]
  },
  {
   "cell_type": "markdown",
   "metadata": {},
   "source": [
    "- Una variable es un nombre que hace referencia a un valor.\n",
    "\n",
    "- Una sentencia de asignación crea nuevas variables y valores dados."
   ]
  },
  {
   "cell_type": "code",
   "execution_count": 83,
   "metadata": {
    "slideshow": {
     "slide_type": "subslide"
    }
   },
   "outputs": [],
   "source": [
    "mensaje = \"Este es un mensaje\"\n",
    "n = 17\n",
    "pi = 3.14159265"
   ]
  },
  {
   "cell_type": "markdown",
   "metadata": {
    "slideshow": {
     "slide_type": "subslide"
    }
   },
   "source": [
    "- Este ejemplo realiza tres asignaciones."
   ]
  },
  {
   "cell_type": "code",
   "execution_count": 85,
   "metadata": {},
   "outputs": [
    {
     "data": {
      "text/plain": [
       "str"
      ]
     },
     "execution_count": 85,
     "metadata": {},
     "output_type": "execute_result"
    }
   ],
   "source": [
    "type(mensaje)"
   ]
  },
  {
   "cell_type": "code",
   "execution_count": 86,
   "metadata": {},
   "outputs": [
    {
     "data": {
      "text/plain": [
       "int"
      ]
     },
     "execution_count": 86,
     "metadata": {},
     "output_type": "execute_result"
    }
   ],
   "source": [
    "type(n)"
   ]
  },
  {
   "cell_type": "code",
   "execution_count": 87,
   "metadata": {},
   "outputs": [
    {
     "data": {
      "text/plain": [
       "float"
      ]
     },
     "execution_count": 87,
     "metadata": {},
     "output_type": "execute_result"
    }
   ],
   "source": [
    "type(pi)"
   ]
  },
  {
   "cell_type": "code",
   "execution_count": 88,
   "metadata": {
    "slideshow": {
     "slide_type": "subslide"
    }
   },
   "outputs": [
    {
     "name": "stdout",
     "output_type": "stream",
     "text": [
      "<class 'float'>\n"
     ]
    }
   ],
   "source": [
    "x = n * pi\n",
    "print(type(x))"
   ]
  },
  {
   "cell_type": "code",
   "execution_count": 89,
   "metadata": {},
   "outputs": [
    {
     "name": "stdout",
     "output_type": "stream",
     "text": [
      "Este es un mensajeEste es un mensajeEste es un mensajeEste es un mensajeEste es un mensajeEste es un mensajeEste es un mensajeEste es un mensajeEste es un mensajeEste es un mensajeEste es un mensajeEste es un mensajeEste es un mensajeEste es un mensajeEste es un mensajeEste es un mensajeEste es un mensaje\n"
     ]
    }
   ],
   "source": [
    "z = n*mensaje\n",
    "print(z)"
   ]
  },
  {
   "cell_type": "code",
   "execution_count": 90,
   "metadata": {},
   "outputs": [
    {
     "ename": "TypeError",
     "evalue": "can't multiply sequence by non-int of type 'float'",
     "output_type": "error",
     "traceback": [
      "\u001b[1;31m---------------------------------------------------------------------------\u001b[0m",
      "\u001b[1;31mTypeError\u001b[0m                                 Traceback (most recent call last)",
      "Input \u001b[1;32mIn [90]\u001b[0m, in \u001b[0;36m<cell line: 1>\u001b[1;34m()\u001b[0m\n\u001b[1;32m----> 1\u001b[0m p \u001b[38;5;241m=\u001b[39m \u001b[43mpi\u001b[49m\u001b[43m \u001b[49m\u001b[38;5;241;43m*\u001b[39;49m\u001b[43m \u001b[49m\u001b[43mmensaje\u001b[49m\n\u001b[0;32m      2\u001b[0m \u001b[38;5;28mprint\u001b[39m(p)\n",
      "\u001b[1;31mTypeError\u001b[0m: can't multiply sequence by non-int of type 'float'"
     ]
    }
   ],
   "source": [
    "p = pi * mensaje\n",
    "print(p)"
   ]
  },
  {
   "cell_type": "markdown",
   "metadata": {
    "slideshow": {
     "slide_type": "slide"
    }
   },
   "source": [
    "#### Nombre de Variables y Palabras Claves (keywords)"
   ]
  },
  {
   "cell_type": "code",
   "execution_count": 91,
   "metadata": {},
   "outputs": [
    {
     "ename": "NameError",
     "evalue": "name 'año' is not defined",
     "output_type": "error",
     "traceback": [
      "\u001b[1;31m---------------------------------------------------------------------------\u001b[0m",
      "\u001b[1;31mNameError\u001b[0m                                 Traceback (most recent call last)",
      "Input \u001b[1;32mIn [91]\u001b[0m, in \u001b[0;36m<cell line: 5>\u001b[1;34m()\u001b[0m\n\u001b[0;32m      3\u001b[0m cheer \u001b[38;5;241m=\u001b[39m \u001b[38;5;124m\"\u001b[39m\u001b[38;5;124mHola\u001b[39m\u001b[38;5;124m\"\u001b[39m\n\u001b[0;32m      4\u001b[0m year \u001b[38;5;241m=\u001b[39m \u001b[38;5;241m5\u001b[39m\n\u001b[1;32m----> 5\u001b[0m resultado_variable \u001b[38;5;241m=\u001b[39m \u001b[43maño\u001b[49m \u001b[38;5;241m*\u001b[39m estaEsUnaVariable\n\u001b[0;32m      6\u001b[0m \u001b[38;5;28mprint\u001b[39m(resultado)\n",
      "\u001b[1;31mNameError\u001b[0m: name 'año' is not defined"
     ]
    }
   ],
   "source": [
    "#utf-8\n",
    "\n",
    "cheer = \"Hola\"\n",
    "year = 5\n",
    "resultado_variable = año * estaEsUnaVariable\n",
    "print(resultado)"
   ]
  },
  {
   "cell_type": "markdown",
   "metadata": {},
   "source": [
    "- Nombres de variables pueden tener un tamaño arbitrariamente de caracteres.\n",
    "\n",
    "\n",
    "- Pueden contener letras y números, pero <strong>SIEMPRE</strong> deben empezar por una letra.\n",
    "\n",
    "\n",
    "- Es **\"Kool\"** usar letras en mayúscula, pero es una buena práctica empezar los nombres de variables en minúscula.\n",
    "\n",
    "\n",
    "- El carácter \"guión bajo\" (*underscore*), `_` , puede aparecer en el nombre de una variable. Usado frecuentemente en variables cuyo nombre está compuesto por diferentes palabras.\n",
    "\n",
    "\n",
    "- Si da a una variable un nombre ilegal, obtendrá un error de sintaxis."
   ]
  },
  {
   "cell_type": "code",
   "execution_count": 92,
   "metadata": {
    "slideshow": {
     "slide_type": "subslide"
    }
   },
   "outputs": [
    {
     "name": "stdout",
     "output_type": "stream",
     "text": [
      "1\n"
     ]
    }
   ],
   "source": [
    "este_puede_ser_el_nombre_valido_de_una_variable = 1\n",
    "print(este_puede_ser_el_nombre_valido_de_una_variable)"
   ]
  },
  {
   "cell_type": "code",
   "execution_count": 93,
   "metadata": {},
   "outputs": [
    {
     "name": "stdout",
     "output_type": "stream",
     "text": [
      "3\n"
     ]
    }
   ],
   "source": [
    "estaEsUnaVariable = 3\n",
    "print(estaEsUnaVariable)"
   ]
  },
  {
   "cell_type": "code",
   "execution_count": null,
   "metadata": {},
   "outputs": [],
   "source": []
  },
  {
   "cell_type": "code",
   "execution_count": null,
   "metadata": {},
   "outputs": [],
   "source": []
  },
  {
   "cell_type": "code",
   "execution_count": 94,
   "metadata": {
    "slideshow": {
     "slide_type": "subslide"
    }
   },
   "outputs": [
    {
     "name": "stdout",
     "output_type": "stream",
     "text": [
      "3\n"
     ]
    }
   ],
   "source": [
    "mamá = 3\n",
    "print(mamá)"
   ]
  },
  {
   "cell_type": "code",
   "execution_count": 95,
   "metadata": {
    "slideshow": {
     "slide_type": "subslide"
    }
   },
   "outputs": [
    {
     "name": "stdout",
     "output_type": "stream",
     "text": [
      "76\n"
     ]
    }
   ],
   "source": [
    "Pesos = 76\n",
    "print(Pesos)"
   ]
  },
  {
   "cell_type": "code",
   "execution_count": 96,
   "metadata": {
    "slideshow": {
     "slide_type": "subslide"
    }
   },
   "outputs": [
    {
     "ename": "SyntaxError",
     "evalue": "invalid syntax (185842.py, line 1)",
     "output_type": "error",
     "traceback": [
      "\u001b[1;36m  Input \u001b[1;32mIn [96]\u001b[1;36m\u001b[0m\n\u001b[1;33m    P3s0s 76 = 76\u001b[0m\n\u001b[1;37m          ^\u001b[0m\n\u001b[1;31mSyntaxError\u001b[0m\u001b[1;31m:\u001b[0m invalid syntax\n"
     ]
    }
   ],
   "source": [
    "P3s0s 76 = 76\n",
    "print(P3s0s76)"
   ]
  },
  {
   "cell_type": "code",
   "execution_count": 97,
   "metadata": {
    "slideshow": {
     "slide_type": "subslide"
    }
   },
   "outputs": [
    {
     "ename": "SyntaxError",
     "evalue": "invalid syntax (1887765851.py, line 1)",
     "output_type": "error",
     "traceback": [
      "\u001b[1;36m  Input \u001b[1;32mIn [97]\u001b[1;36m\u001b[0m\n\u001b[1;33m    mas@ = 5.3\u001b[0m\n\u001b[1;37m         ^\u001b[0m\n\u001b[1;31mSyntaxError\u001b[0m\u001b[1;31m:\u001b[0m invalid syntax\n"
     ]
    }
   ],
   "source": [
    "mas@ = 5.3 "
   ]
  },
  {
   "cell_type": "code",
   "execution_count": 98,
   "metadata": {
    "slideshow": {
     "slide_type": "subslide"
    }
   },
   "outputs": [
    {
     "ename": "SyntaxError",
     "evalue": "invalid syntax (2155053224.py, line 1)",
     "output_type": "error",
     "traceback": [
      "\u001b[1;36m  Input \u001b[1;32mIn [98]\u001b[1;36m\u001b[0m\n\u001b[1;33m    esta variable = 2.5\u001b[0m\n\u001b[1;37m         ^\u001b[0m\n\u001b[1;31mSyntaxError\u001b[0m\u001b[1;31m:\u001b[0m invalid syntax\n"
     ]
    }
   ],
   "source": [
    "esta variable = 2.5"
   ]
  },
  {
   "cell_type": "code",
   "execution_count": 99,
   "metadata": {
    "slideshow": {
     "slide_type": "subslide"
    }
   },
   "outputs": [],
   "source": [
    "class1 = \"Avanzado\""
   ]
  },
  {
   "cell_type": "code",
   "execution_count": 100,
   "metadata": {},
   "outputs": [
    {
     "name": "stdout",
     "output_type": "stream",
     "text": [
      "Avanzado\n"
     ]
    }
   ],
   "source": [
    "print(class1)"
   ]
  },
  {
   "cell_type": "markdown",
   "metadata": {},
   "source": [
    "#### Palabras Clave (keywords) y funciones integradas (builtins)"
   ]
  },
  {
   "cell_type": "markdown",
   "metadata": {
    "slideshow": {
     "slide_type": "slide"
    }
   },
   "source": [
    "El archivo `keyword.py` se distribuye junto con la librería estándar de `Python`. Es generado automáticamente a partir del archivo `graminit.c`, perteneciente al código fuente del intérprete. Incorpora una lista que contiene el conjunto de palabras resevadas, y una simple función que determina la existencia de un `keyword` a partir de una cadena."
   ]
  },
  {
   "cell_type": "code",
   "execution_count": 3,
   "metadata": {
    "slideshow": {
     "slide_type": "-"
    }
   },
   "outputs": [
    {
     "name": "stdout",
     "output_type": "stream",
     "text": [
      "['False', 'None', 'True', '__peg_parser__', 'and', 'as', 'assert', 'async', 'await', 'break', 'class', 'continue', 'def', 'del', 'elif', 'else', 'except', 'finally', 'for', 'from', 'global', 'if', 'import', 'in', 'is', 'lambda', 'nonlocal', 'not', 'or', 'pass', 'raise', 'return', 'try', 'while', 'with', 'yield']\n",
      "36\n"
     ]
    }
   ],
   "source": [
    "# Palabras clave\n",
    "\n",
    "import keyword\n",
    "listkw = keyword.kwlist\n",
    "print(listkw)\n",
    "print(len(listkw))"
   ]
  },
  {
   "cell_type": "code",
   "execution_count": 101,
   "metadata": {},
   "outputs": [
    {
     "name": "stdout",
     "output_type": "stream",
     "text": [
      "['ArithmeticError', 'AssertionError', 'AttributeError', 'BaseException', 'BlockingIOError', 'BrokenPipeError', 'BufferError', 'BytesWarning', 'ChildProcessError', 'ConnectionAbortedError', 'ConnectionError', 'ConnectionRefusedError', 'ConnectionResetError', 'DeprecationWarning', 'EOFError', 'Ellipsis', 'EnvironmentError', 'Exception', 'False', 'FileExistsError', 'FileNotFoundError', 'FloatingPointError', 'FutureWarning', 'GeneratorExit', 'IOError', 'ImportError', 'ImportWarning', 'IndentationError', 'IndexError', 'InterruptedError', 'IsADirectoryError', 'KeyError', 'KeyboardInterrupt', 'LookupError', 'MemoryError', 'ModuleNotFoundError', 'NameError', 'None', 'NotADirectoryError', 'NotImplemented', 'NotImplementedError', 'OSError', 'OverflowError', 'PendingDeprecationWarning', 'PermissionError', 'ProcessLookupError', 'RecursionError', 'ReferenceError', 'ResourceWarning', 'RuntimeError', 'RuntimeWarning', 'StopAsyncIteration', 'StopIteration', 'SyntaxError', 'SyntaxWarning', 'SystemError', 'SystemExit', 'TabError', 'TimeoutError', 'True', 'TypeError', 'UnboundLocalError', 'UnicodeDecodeError', 'UnicodeEncodeError', 'UnicodeError', 'UnicodeTranslateError', 'UnicodeWarning', 'UserWarning', 'ValueError', 'Warning', 'WindowsError', 'ZeroDivisionError', '__IPYTHON__', '__build_class__', '__debug__', '__doc__', '__import__', '__loader__', '__name__', '__package__', '__spec__', 'abs', 'all', 'any', 'ascii', 'bin', 'bool', 'breakpoint', 'bytearray', 'bytes', 'callable', 'chr', 'classmethod', 'compile', 'complex', 'copyright', 'credits', 'delattr', 'dict', 'dir', 'display', 'divmod', 'enumerate', 'eval', 'exec', 'execfile', 'filter', 'float', 'format', 'frozenset', 'get_ipython', 'getattr', 'globals', 'hasattr', 'hash', 'help', 'hex', 'id', 'input', 'int', 'isinstance', 'issubclass', 'iter', 'len', 'license', 'list', 'locals', 'map', 'max', 'memoryview', 'min', 'next', 'object', 'oct', 'open', 'ord', 'pow', 'print', 'property', 'range', 'repr', 'reversed', 'round', 'runfile', 'set', 'setattr', 'slice', 'sorted', 'staticmethod', 'str', 'sum', 'super', 'tuple', 'type', 'vars', 'zip']\n",
      "156\n"
     ]
    }
   ],
   "source": [
    "# Funciones integradas\n",
    "\n",
    "import builtins\n",
    "list_bins = dir(builtins)\n",
    "print(list_bins)\n",
    "print(len(list_bins))"
   ]
  },
  {
   "cell_type": "code",
   "execution_count": 102,
   "metadata": {
    "scrolled": true
   },
   "outputs": [
    {
     "name": "stdout",
     "output_type": "stream",
     "text": [
      "3\n"
     ]
    }
   ],
   "source": [
    "suma = sum((1,2))\n",
    "print(suma)"
   ]
  },
  {
   "cell_type": "markdown",
   "metadata": {},
   "source": [
    "#### Ayuda (documentación)"
   ]
  },
  {
   "cell_type": "code",
   "execution_count": 103,
   "metadata": {},
   "outputs": [
    {
     "name": "stdout",
     "output_type": "stream",
     "text": [
      "Help on built-in function sum in module builtins:\n",
      "\n",
      "sum(iterable, /, start=0)\n",
      "    Return the sum of a 'start' value (default: 0) plus an iterable of numbers\n",
      "    \n",
      "    When the iterable is empty, return the start value.\n",
      "    This function is intended specifically for use with numeric values and may\n",
      "    reject non-numeric types.\n",
      "\n"
     ]
    }
   ],
   "source": [
    "help(\"sum\")"
   ]
  },
  {
   "cell_type": "code",
   "execution_count": 104,
   "metadata": {},
   "outputs": [
    {
     "name": "stdout",
     "output_type": "stream",
     "text": [
      "Help on built-in function dir in module builtins:\n",
      "\n",
      "dir(...)\n",
      "    dir([object]) -> list of strings\n",
      "    \n",
      "    If called without an argument, return the names in the current scope.\n",
      "    Else, return an alphabetized list of names comprising (some of) the attributes\n",
      "    of the given object, and of attributes reachable from it.\n",
      "    If the object supplies a method named __dir__, it will be used; otherwise\n",
      "    the default dir() logic is used and returns:\n",
      "      for a module object: the module's attributes.\n",
      "      for a class object:  its attributes, and recursively the attributes\n",
      "        of its bases.\n",
      "      for any other object: its attributes, its class's attributes, and\n",
      "        recursively the attributes of its class's base classes.\n",
      "\n"
     ]
    }
   ],
   "source": [
    "help(\"dir\")"
   ]
  },
  {
   "cell_type": "markdown",
   "metadata": {
    "slideshow": {
     "slide_type": "slide"
    }
   },
   "source": [
    "#### Asignación Múltiple"
   ]
  },
  {
   "cell_type": "markdown",
   "metadata": {
    "slideshow": {
     "slide_type": "-"
    }
   },
   "source": [
    "Otra de las ventajas que *Python* nos provee es la de poder asignar en una sola instrucción múltiples variables."
   ]
  },
  {
   "cell_type": "code",
   "execution_count": 106,
   "metadata": {
    "slideshow": {
     "slide_type": "subslide"
    }
   },
   "outputs": [],
   "source": [
    "a, b, c, d = \"class\", 15, True, 3.8"
   ]
  },
  {
   "cell_type": "code",
   "execution_count": 107,
   "metadata": {},
   "outputs": [
    {
     "data": {
      "text/plain": [
       "bool"
      ]
     },
     "execution_count": 107,
     "metadata": {},
     "output_type": "execute_result"
    }
   ],
   "source": [
    "type(c)"
   ]
  },
  {
   "cell_type": "code",
   "execution_count": 108,
   "metadata": {},
   "outputs": [
    {
     "name": "stdout",
     "output_type": "stream",
     "text": [
      "class\n",
      "15\n",
      "True\n",
      "3.8\n"
     ]
    }
   ],
   "source": [
    "print(a)\n",
    "print(b)\n",
    "print(c)\n",
    "print(d)"
   ]
  },
  {
   "cell_type": "markdown",
   "metadata": {
    "slideshow": {
     "slide_type": "slide"
    }
   },
   "source": [
    "### Operadores y Operandos"
   ]
  },
  {
   "cell_type": "markdown",
   "metadata": {},
   "source": [
    "#### Operadores"
   ]
  },
  {
   "cell_type": "markdown",
   "metadata": {},
   "source": [
    "Los operadores son símbolos especiales que representan cálculos: \n",
    "\n",
    "|Operador|Símbolo|\n",
    "|--------|-------|\n",
    "|Suma| +|\n",
    "|Resta| -|\n",
    "|Multiplicación| *|\n",
    "|División| /|\n",
    "|Potenciación| **|\n",
    "|División entera| //|\n",
    "|Módulo| %|"
   ]
  },
  {
   "cell_type": "code",
   "execution_count": 8,
   "metadata": {
    "slideshow": {
     "slide_type": "subslide"
    }
   },
   "outputs": [
    {
     "name": "stdout",
     "output_type": "stream",
     "text": [
      "5\n"
     ]
    }
   ],
   "source": [
    "r = 3 + 2\n",
    "print(r)"
   ]
  },
  {
   "cell_type": "code",
   "execution_count": 9,
   "metadata": {
    "slideshow": {
     "slide_type": "subslide"
    }
   },
   "outputs": [
    {
     "name": "stdout",
     "output_type": "stream",
     "text": [
      "-3\n"
     ]
    }
   ],
   "source": [
    "r = 1 - 4\n",
    "print(r)"
   ]
  },
  {
   "cell_type": "code",
   "execution_count": 10,
   "metadata": {
    "slideshow": {
     "slide_type": "subslide"
    }
   },
   "outputs": [
    {
     "name": "stdout",
     "output_type": "stream",
     "text": [
      "243\n"
     ]
    }
   ],
   "source": [
    "r = 3 ** 5\n",
    "print(r)"
   ]
  },
  {
   "cell_type": "code",
   "execution_count": 11,
   "metadata": {
    "slideshow": {
     "slide_type": "subslide"
    }
   },
   "outputs": [
    {
     "name": "stdout",
     "output_type": "stream",
     "text": [
      "8.25\n"
     ]
    }
   ],
   "source": [
    "r = 33 / 4\n",
    "print(r)"
   ]
  },
  {
   "cell_type": "code",
   "execution_count": 12,
   "metadata": {
    "slideshow": {
     "slide_type": "subslide"
    }
   },
   "outputs": [
    {
     "name": "stdout",
     "output_type": "stream",
     "text": [
      "8\n"
     ]
    }
   ],
   "source": [
    "r = 33 // 4\n",
    "print(r)"
   ]
  },
  {
   "cell_type": "code",
   "execution_count": null,
   "metadata": {
    "slideshow": {
     "slide_type": "subslide"
    }
   },
   "outputs": [],
   "source": [
    "r = 4 % 10\n",
    "print(r)"
   ]
  },
  {
   "cell_type": "markdown",
   "metadata": {
    "slideshow": {
     "slide_type": "slide"
    }
   },
   "source": [
    "***Observaciones!***\n",
    "\n",
    "- En *Python* el operador `^` representa el operador bit a bit `XOR`.\n",
    "\n",
    "\n",
    "- En *Python 2.x*, el operador división puede no hacer lo que usted esperaría que hiciera:"
   ]
  },
  {
   "cell_type": "code",
   "execution_count": 109,
   "metadata": {
    "slideshow": {
     "slide_type": "subslide"
    }
   },
   "outputs": [
    {
     "data": {
      "text/plain": [
       "0.9833333333333333"
      ]
     },
     "execution_count": 109,
     "metadata": {},
     "output_type": "execute_result"
    }
   ],
   "source": [
    "minuto = 59\n",
    "minuto/60"
   ]
  },
  {
   "cell_type": "code",
   "execution_count": 110,
   "metadata": {},
   "outputs": [
    {
     "data": {
      "text/plain": [
       "3.5"
      ]
     },
     "execution_count": 110,
     "metadata": {},
     "output_type": "execute_result"
    }
   ],
   "source": [
    "7/2."
   ]
  },
  {
   "cell_type": "markdown",
   "metadata": {
    "slideshow": {
     "slide_type": "subslide"
    }
   },
   "source": [
    "- En *Python 2.x* el operador `/` realiza la operación *[floor division](https://python-reference.readthedocs.io/en/latest/docs/operators/floor_division.html)*. Cuando los operandos son enteros, el resultado es la parte entera.\n",
    "\n",
    "\n",
    "- En *Python 3.x*, el resultado es un número de punto flotante."
   ]
  },
  {
   "cell_type": "markdown",
   "metadata": {
    "slideshow": {
     "slide_type": "slide"
    }
   },
   "source": [
    "#### Booleanos (o de comparación)"
   ]
  },
  {
   "cell_type": "markdown",
   "metadata": {},
   "source": [
    "En programación, los operadores de comparación se utilizan para comparar valores y evaluar hasta un único valor booleano de Verdadero o Falso. Estos valores son especialmente importantes para las expresiones condicionales y los ciclos, como veremos más adelante. Una variable de tipo booleano sólo puede tener uno dedos valores `True` (*verdadero*) o `False` (*falso*). El tipo `bool` (el tipo de los booleanos) es una subclase del tipo `int`."
   ]
  },
  {
   "cell_type": "code",
   "execution_count": 13,
   "metadata": {},
   "outputs": [
    {
     "name": "stdout",
     "output_type": "stream",
     "text": [
      "<class 'bool'>\n",
      "False\n"
     ]
    }
   ],
   "source": [
    "falso = False\n",
    "print(type(falso))\n",
    "print(falso)"
   ]
  },
  {
   "cell_type": "markdown",
   "metadata": {},
   "source": [
    "- Los valores booleanos son además el resultado de expresiones que utilizan operadores relacionales (comparaciones entre valores):"
   ]
  },
  {
   "cell_type": "markdown",
   "metadata": {
    "slideshow": {
     "slide_type": "subslide"
    }
   },
   "source": [
    "| Operador    | Descripción                   | Ejemplo                   |\n",
    "| -----------:|:-----------------------------:|--------------------------:|\n",
    "| ==          | Son iguales $a$ y $b$?        | r = 5 == 3   # r es False |\n",
    "| !=          | Son distintos $a$ o $b$?      | r = 5 != 3   # r es True  |\n",
    "| <           | $a$ es menor que $b$?         | r = 5 < 3    # r es False |\n",
    "| >           | $a$ es mayor que $b$?         | r = 5 > 3    # r es True  |\n",
    "| <=          | $a$ es menor o igual que $b$? | r = 5 <= 3   # r es False |\n",
    "| >=          | $a$ es mayor o igual que $b$? | r = 5 >= 3   # r es True  |"
   ]
  },
  {
   "cell_type": "code",
   "execution_count": 14,
   "metadata": {
    "slideshow": {
     "slide_type": "subslide"
    }
   },
   "outputs": [],
   "source": [
    "a = 5\n",
    "b = 3"
   ]
  },
  {
   "cell_type": "code",
   "execution_count": 15,
   "metadata": {
    "slideshow": {
     "slide_type": "subslide"
    }
   },
   "outputs": [
    {
     "data": {
      "text/plain": [
       "False"
      ]
     },
     "execution_count": 15,
     "metadata": {},
     "output_type": "execute_result"
    }
   ],
   "source": [
    "a == b"
   ]
  },
  {
   "cell_type": "code",
   "execution_count": 16,
   "metadata": {
    "slideshow": {
     "slide_type": "subslide"
    }
   },
   "outputs": [
    {
     "data": {
      "text/plain": [
       "True"
      ]
     },
     "execution_count": 16,
     "metadata": {},
     "output_type": "execute_result"
    }
   ],
   "source": [
    "a != b"
   ]
  },
  {
   "cell_type": "code",
   "execution_count": 17,
   "metadata": {
    "slideshow": {
     "slide_type": "subslide"
    }
   },
   "outputs": [
    {
     "data": {
      "text/plain": [
       "False"
      ]
     },
     "execution_count": 17,
     "metadata": {},
     "output_type": "execute_result"
    }
   ],
   "source": [
    "a < b"
   ]
  },
  {
   "cell_type": "code",
   "execution_count": 18,
   "metadata": {
    "slideshow": {
     "slide_type": "subslide"
    }
   },
   "outputs": [
    {
     "data": {
      "text/plain": [
       "True"
      ]
     },
     "execution_count": 18,
     "metadata": {},
     "output_type": "execute_result"
    }
   ],
   "source": [
    "a > b"
   ]
  },
  {
   "cell_type": "code",
   "execution_count": 19,
   "metadata": {
    "slideshow": {
     "slide_type": "subslide"
    }
   },
   "outputs": [
    {
     "data": {
      "text/plain": [
       "False"
      ]
     },
     "execution_count": 19,
     "metadata": {},
     "output_type": "execute_result"
    }
   ],
   "source": [
    "a <= b"
   ]
  },
  {
   "cell_type": "code",
   "execution_count": 20,
   "metadata": {
    "slideshow": {
     "slide_type": "subslide"
    }
   },
   "outputs": [
    {
     "data": {
      "text/plain": [
       "True"
      ]
     },
     "execution_count": 20,
     "metadata": {},
     "output_type": "execute_result"
    }
   ],
   "source": [
    "a >= b"
   ]
  },
  {
   "cell_type": "markdown",
   "metadata": {},
   "source": [
    "####  Lógicos"
   ]
  },
  {
   "cell_type": "markdown",
   "metadata": {},
   "source": [
    "Los operadores lógicos se utilizan normalmente para evaluar si dos o más expresiones son verdaderas o no. Por ejemplo, se pueden usar para determinar si la calificación es aprobatoria y si el estudiante está registrado en el curso, y si ambos casos son verdaderos, se le asignará una calificación al estudiante en el sistema. Otro ejemplo sería determinar si un usuario es un cliente activo válido de una tienda en línea en función de si tiene crédito en la tienda o si ha realizado una compra en los últimos 6 meses.\n"
   ]
  },
  {
   "cell_type": "markdown",
   "metadata": {
    "slideshow": {
     "slide_type": "subslide"
    }
   },
   "source": [
    "| Operador    | Descripción           | Ejemplo                         |\n",
    "| -----------:|:---------------------:|--------------------------------:|\n",
    "| and         | Se cumple $a$ y $b$?  | r = True and False # r es False |\n",
    "| or          | Se cumple $a$ o $b$?  | r = True and False # r es true  |\n",
    "| not         | No $a$                | r = not True       # r es False |\n"
   ]
  },
  {
   "cell_type": "code",
   "execution_count": 113,
   "metadata": {},
   "outputs": [],
   "source": [
    "edad = 2\n",
    "estatura = 92\n",
    "hincha = \"Tolima\""
   ]
  },
  {
   "cell_type": "code",
   "execution_count": 114,
   "metadata": {},
   "outputs": [
    {
     "name": "stdout",
     "output_type": "stream",
     "text": [
      "lamentablemente no puede entrar\n"
     ]
    }
   ],
   "source": [
    "if hincha == \"Nacional\" and edad <= 3 or estatura >=90:\n",
    "    print(\"lamentablemente no puede entrar\")\n",
    "else:\n",
    "    print(\"puede entrar\")\n"
   ]
  },
  {
   "cell_type": "markdown",
   "metadata": {},
   "source": [
    "[Volver a la Tabla de Contenido](#TOC)"
   ]
  },
  {
   "cell_type": "markdown",
   "metadata": {
    "slideshow": {
     "slide_type": "slide"
    }
   },
   "source": [
    "## Expresiones y Sentencias"
   ]
  },
  {
   "cell_type": "markdown",
   "metadata": {},
   "source": [
    "- Una expresión es una combinación de valores, variables y operadores.\n",
    "\n",
    "\n",
    "- Un valor es considerado una expresión.\n",
    "\n",
    "\n",
    "- Una sentencia es una unidad de código que el interprete del *Python* puede ejecutar.\n",
    "\n",
    "\n",
    "- La diferencia entre los dos radica en que una expresión tiene un valor, una sentencia no.\n",
    "\n",
    "\n",
    "- `print` y asignación (`x = 5`) son sentencias."
   ]
  },
  {
   "cell_type": "code",
   "execution_count": null,
   "metadata": {
    "slideshow": {
     "slide_type": "subslide"
    }
   },
   "outputs": [],
   "source": [
    "x = 5 # esta es una sentencia\n",
    "17 # esta es una expresión\n",
    "x # esta es una expresión\n",
    "x+17 # esta es una expresión"
   ]
  },
  {
   "cell_type": "markdown",
   "metadata": {
    "slideshow": {
     "slide_type": "slide"
    }
   },
   "source": [
    "### Orden de las operaciones"
   ]
  },
  {
   "cell_type": "markdown",
   "metadata": {},
   "source": [
    "- Cuando existen más de un operador, se sigue la regla del orden de precencia: *Parentesis*, *Exponentes*, *Multiplicaciones / Divisones*, y por último, *Sumas / Restas*."
   ]
  },
  {
   "cell_type": "markdown",
   "metadata": {},
   "source": [
    "$x = 2 (z+v)$"
   ]
  },
  {
   "cell_type": "code",
   "execution_count": 24,
   "metadata": {
    "slideshow": {
     "slide_type": "subslide"
    }
   },
   "outputs": [
    {
     "data": {
      "text/plain": [
       "4"
      ]
     },
     "execution_count": 24,
     "metadata": {},
     "output_type": "execute_result"
    }
   ],
   "source": [
    "2 * (3 - 1)"
   ]
  },
  {
   "cell_type": "code",
   "execution_count": 25,
   "metadata": {
    "slideshow": {
     "slide_type": "subslide"
    }
   },
   "outputs": [
    {
     "data": {
      "text/plain": [
       "5"
      ]
     },
     "execution_count": 25,
     "metadata": {},
     "output_type": "execute_result"
    }
   ],
   "source": [
    "2 * 3 - 1"
   ]
  },
  {
   "cell_type": "markdown",
   "metadata": {
    "slideshow": {
     "slide_type": "slide"
    }
   },
   "source": [
    "### Comentarios"
   ]
  },
  {
   "cell_type": "markdown",
   "metadata": {},
   "source": [
    "- A medida que los programas se van haciendo mayores y más complejos, se van volviendo difíciles de leer.\n",
    "\n",
    "\n",
    "- Los lenguajes formales son densos y esto dificulta la lectura y su seguimiento para entender qué hace o por qué. \n",
    "\n",
    "\n",
    "- Es buena idea adicionar notas al programa para explicar en lenguaje natural que es lo que el programa está haciendo.\n",
    "\n",
    "\n",
    "- Estas anotaciones se llaman *comentarios* y empiezan con el símbolo `#`."
   ]
  },
  {
   "cell_type": "code",
   "execution_count": 28,
   "metadata": {
    "slideshow": {
     "slide_type": "subslide"
    }
   },
   "outputs": [
    {
     "name": "stdout",
     "output_type": "stream",
     "text": [
      "100.0\n"
     ]
    }
   ],
   "source": [
    "# Calcula el porcentaje de horas que ha pasado\n",
    "minuto=60\n",
    "porcentaje = (minuto * 100) / 60\n",
    "print(porcentaje)"
   ]
  },
  {
   "cell_type": "code",
   "execution_count": 29,
   "metadata": {
    "slideshow": {
     "slide_type": "subslide"
    }
   },
   "outputs": [
    {
     "name": "stdout",
     "output_type": "stream",
     "text": [
      "100.0\n"
     ]
    }
   ],
   "source": [
    "porcentaje = (minuto * 100) / 60 # aquí me falta algo...  \n",
    "print(porcentaje)"
   ]
  },
  {
   "cell_type": "markdown",
   "metadata": {
    "slideshow": {
     "slide_type": "subslide"
    }
   },
   "source": [
    "- Los comentarios son muy útiles cuando documentan características no evidentes del código, pero hay qué evitar los comentarios \"obvios\".\n",
    "\n",
    "\n",
    "- Una buena nominación de las variables reduce la necesidad de comentarios, pero nombres largos pueden volver la expresión compleja y difícil de leer.\n",
    "\n",
    "\n",
    "- <strong>Úselos con moderación!</strong>"
   ]
  },
  {
   "cell_type": "code",
   "execution_count": null,
   "metadata": {
    "slideshow": {
     "slide_type": "subslide"
    }
   },
   "outputs": [],
   "source": [
    "\"\"\"\n",
    "Help on built-in function sum in module builtins:\n",
    "\n",
    "sum(iterable, start=0, /)\n",
    "    Return the sum of a 'start' value (default: 0) plus an iterable of numbers\n",
    "    \n",
    "    When the iterable is empty, return the start value.\n",
    "    This function is intended specifically for use with numeric values and may\n",
    "    reject non-numeric types.\n",
    "\n",
    "\"\"\"\n",
    "\n",
    "v = 5 # asigna el valor de 5 a la variable v.... obvio!!!\n",
    "\n",
    "v = 5 # Velocidad en metros/segundo... mejor..."
   ]
  },
  {
   "cell_type": "code",
   "execution_count": 30,
   "metadata": {},
   "outputs": [
    {
     "name": "stdout",
     "output_type": "stream",
     "text": [
      "Help on built-in function sum in module builtins:\n",
      "\n",
      "sum(iterable, /, start=0)\n",
      "    Return the sum of a 'start' value (default: 0) plus an iterable of numbers\n",
      "    \n",
      "    When the iterable is empty, return the start value.\n",
      "    This function is intended specifically for use with numeric values and may\n",
      "    reject non-numeric types.\n",
      "\n"
     ]
    }
   ],
   "source": [
    "help(\"sum\")"
   ]
  },
  {
   "cell_type": "markdown",
   "metadata": {},
   "source": [
    "[Volver a la Tabla de Contenido](#TOC)"
   ]
  },
  {
   "cell_type": "markdown",
   "metadata": {
    "slideshow": {
     "slide_type": "slide"
    }
   },
   "source": [
    "## Operaciones con Cadenas de Caracteres (*strings*)"
   ]
  },
  {
   "cell_type": "markdown",
   "metadata": {},
   "source": [
    "- En general, no se pueden realizar operaciones aritméticas en cadenas de caracteres, aún si las cadenas parecen como si fueran números:"
   ]
  },
  {
   "cell_type": "code",
   "execution_count": 31,
   "metadata": {},
   "outputs": [
    {
     "name": "stdout",
     "output_type": "stream",
     "text": [
      "holaholaholaholahola\n"
     ]
    },
    {
     "data": {
      "text/plain": [
       "str"
      ]
     },
     "execution_count": 31,
     "metadata": {},
     "output_type": "execute_result"
    }
   ],
   "source": [
    "cadena = 'hola'\n",
    "n = 5\n",
    "y = cadena * n\n",
    "\n",
    "print(y)\n",
    "type(y)"
   ]
  },
  {
   "cell_type": "markdown",
   "metadata": {},
   "source": [
    "Comilla simple"
   ]
  },
  {
   "cell_type": "code",
   "execution_count": 32,
   "metadata": {},
   "outputs": [
    {
     "name": "stdout",
     "output_type": "stream",
     "text": [
      "It doesn't matter!\n"
     ]
    }
   ],
   "source": [
    "s1 = 'It doesn\\'t matter!'\n",
    "print(s1)"
   ]
  },
  {
   "cell_type": "markdown",
   "metadata": {},
   "source": [
    "el caracter `\\` se denomina `scape`, y permite emplear una comilla simple dentro de un texto en comillas simples y evitar la ambiguedad.\n",
    "\n",
    "para evitar del todo esta situación, se pueden emplear las comillas dobles `\"\"` para escribir una cadena de caractéres"
   ]
  },
  {
   "cell_type": "code",
   "execution_count": 33,
   "metadata": {},
   "outputs": [
    {
     "name": "stdout",
     "output_type": "stream",
     "text": [
      "It doesn't matter!\n"
     ]
    }
   ],
   "source": [
    "s2 = \"It doesn't matter!\"\n",
    "print(s2)"
   ]
  },
  {
   "cell_type": "markdown",
   "metadata": {},
   "source": [
    "Si en una cadena de texto dentro de comillas dobles se pretende incluir parte del texto dentro de comillas dobles (una cita textual, por ejemplo), se debe emplear el caracter de escape. "
   ]
  },
  {
   "cell_type": "code",
   "execution_count": 34,
   "metadata": {},
   "outputs": [
    {
     "name": "stdout",
     "output_type": "stream",
     "text": [
      "He said: \"It doesn't matter, if you enclose a string in single or double quotes!\"\n"
     ]
    }
   ],
   "source": [
    "txt = 'He said: \\\"It doesn\\'t matter, if you enclose a string in single or double quotes!\\\"'\n",
    "print(txt)"
   ]
  },
  {
   "cell_type": "markdown",
   "metadata": {},
   "source": [
    "Un texto que abarque más de una línea, se puede colocar entre comillas triples y sirve a su vez para crear la documentación de un código (`docstring`) "
   ]
  },
  {
   "cell_type": "code",
   "execution_count": 35,
   "metadata": {},
   "outputs": [
    {
     "name": "stdout",
     "output_type": "stream",
     "text": [
      "Este texto se puede\n",
      "escribir en varias\n",
      "líneas de código\n",
      "\n"
     ]
    }
   ],
   "source": [
    "txt = \"\"\"Este texto se puede\n",
    "escribir en varias\n",
    "líneas de código\n",
    "\"\"\"\n",
    "\n",
    "print(txt)"
   ]
  },
  {
   "cell_type": "code",
   "execution_count": 115,
   "metadata": {},
   "outputs": [
    {
     "name": "stdout",
     "output_type": "stream",
     "text": [
      "Este texto se puede\n",
      "escribir en varias\n",
      "líneas de código\n",
      "\n"
     ]
    }
   ],
   "source": [
    "txt = '''Este texto se puede\n",
    "escribir en varias\n",
    "líneas de código\n",
    "'''\n",
    "\n",
    "print(txt)"
   ]
  },
  {
   "cell_type": "code",
   "execution_count": 36,
   "metadata": {},
   "outputs": [
    {
     "name": "stdout",
     "output_type": "stream",
     "text": [
      "Este texto se puede \n",
      "escribir en varias \tlíneas de código\n"
     ]
    }
   ],
   "source": [
    "txt = \"Este texto se puede \\nescribir en varias \\tlíneas de código\"\n",
    "\n",
    "print(txt)"
   ]
  },
  {
   "cell_type": "markdown",
   "metadata": {
    "slideshow": {
     "slide_type": "subslide"
    }
   },
   "source": [
    "### Concatenación"
   ]
  },
  {
   "cell_type": "markdown",
   "metadata": {},
   "source": [
    "Junta los caracteres vinculándolos de extremo a extremo mediante el operador `+`"
   ]
  },
  {
   "cell_type": "code",
   "execution_count": 37,
   "metadata": {},
   "outputs": [
    {
     "name": "stdout",
     "output_type": "stream",
     "text": [
      "Adiós\tMundo\tcómo\testás?\n",
      "Hola MundoCómoestás?\n"
     ]
    }
   ],
   "source": [
    "a = \"Adiós\"\n",
    "b = \"Mundo\"\n",
    "c = \"cómo\"\n",
    "d = \"estás?\"\n",
    "blank = \"\\t\"\n",
    "\n",
    "print(a + blank + b + blank + c +  blank + d )\n",
    "\n",
    "print(\"Hola\" + \" \" + \"Mundo\" + \"Cómo\" + \"estás?\")"
   ]
  },
  {
   "cell_type": "code",
   "execution_count": 38,
   "metadata": {
    "slideshow": {
     "slide_type": "subslide"
    }
   },
   "outputs": [
    {
     "name": "stdout",
     "output_type": "stream",
     "text": [
      "Hola  Mundo cruel y despiadado\n"
     ]
    }
   ],
   "source": [
    "cadena1 = \"Hola\"\n",
    "cadena2 = \" Mundo\"\n",
    "cadena3 = \" \"\n",
    "cadena4 = \"cruel\"\n",
    "cadena5 = \"y\"\n",
    "cadena6 = \"despiadado\"\n",
    "print(cadena1 + cadena3 + cadena2 + cadena3 + cadena4 + cadena3 + cadena5 + cadena3 + cadena6)"
   ]
  },
  {
   "cell_type": "markdown",
   "metadata": {},
   "source": [
    "Veamos este otro ejemplo"
   ]
  },
  {
   "cell_type": "code",
   "execution_count": 39,
   "metadata": {},
   "outputs": [
    {
     "name": "stdin",
     "output_type": "stream",
     "text": [
      "Ingrese el usuario:  Isabel\n",
      "Ingrese un número consecutivo:  123\n",
      "Ingrese el dominio:  gmail\n",
      "Ingrese el servicio:  comida\n",
      "Ingrese el país:  mx\n"
     ]
    },
    {
     "name": "stdout",
     "output_type": "stream",
     "text": [
      "Isabel123@gmail.comida.mx\n"
     ]
    }
   ],
   "source": [
    "usuario = input(\"Ingrese el usuario: \")\n",
    "numero = input(\"Ingrese un número consecutivo: \")\n",
    "arroba = \"@\"\n",
    "dot = \".\"\n",
    "dominio = input(\"Ingrese el dominio: \")\n",
    "servicio = input(\"Ingrese el servicio: \")\n",
    "pais = input(\"Ingrese el país: \")\n",
    "\n",
    "correo = usuario + numero + arroba + dominio + dot + servicio + dot + pais\n",
    "print(correo)"
   ]
  },
  {
   "cell_type": "markdown",
   "metadata": {},
   "source": [
    "### Repetición"
   ]
  },
  {
   "cell_type": "markdown",
   "metadata": {},
   "source": [
    "Una cadena de caracteres puede repetirse con el operador asterisco `*`"
   ]
  },
  {
   "cell_type": "code",
   "execution_count": 118,
   "metadata": {
    "slideshow": {
     "slide_type": "subslide"
    }
   },
   "outputs": [
    {
     "name": "stdout",
     "output_type": "stream",
     "text": [
      "4Hola\n"
     ]
    }
   ],
   "source": [
    "cadena4 = str(4) + cadena1\n",
    "print(cadena4)"
   ]
  },
  {
   "cell_type": "code",
   "execution_count": 122,
   "metadata": {},
   "outputs": [
    {
     "name": "stdin",
     "output_type": "stream",
     "text": [
      "Ingrese un número 10.5\n"
     ]
    },
    {
     "name": "stdout",
     "output_type": "stream",
     "text": [
      "0.47619047619047616\n"
     ]
    }
   ],
   "source": [
    "variable = input(\"Ingrese un número\")\n",
    "numero = 5 / float(variable)\n",
    "print(numero)"
   ]
  },
  {
   "cell_type": "code",
   "execution_count": 44,
   "metadata": {},
   "outputs": [
    {
     "name": "stdout",
     "output_type": "stream",
     "text": [
      "<class 'str'>\n"
     ]
    },
    {
     "data": {
      "text/plain": [
       "'2.5'"
      ]
     },
     "execution_count": 44,
     "metadata": {},
     "output_type": "execute_result"
    }
   ],
   "source": [
    "print(type(variable))\n",
    "variable"
   ]
  },
  {
   "cell_type": "markdown",
   "metadata": {},
   "source": [
    "### Indexación"
   ]
  },
  {
   "cell_type": "markdown",
   "metadata": {},
   "source": [
    "Una cadena de caracteres (sting) en `Python` consiste de una serie, o secuencia, de caracteres (letras, números y caracteres especiales). Las cadenas de caracteres pueden indexarse, similar al `C`, en donde el primer caracter tiene índice `0`:"
   ]
  },
  {
   "cell_type": "markdown",
   "metadata": {},
   "source": [
    "<p float=\"center\">\n",
    "  <img src=\"https://github.com/carlosalvarezh/FundamentosProgramacion/blob/main/images/Sem03Img01.png?raw=true\" width=\"750\" />\n",
    "</p>\n"
   ]
  },
  {
   "cell_type": "code",
   "execution_count": 45,
   "metadata": {},
   "outputs": [
    {
     "name": "stdout",
     "output_type": "stream",
     "text": [
      "parangaricutirimicuarolina\n"
     ]
    }
   ],
   "source": [
    "a = \"parangaricutirimicuarolina\"\n",
    "print(a)"
   ]
  },
  {
   "cell_type": "code",
   "execution_count": 46,
   "metadata": {},
   "outputs": [
    {
     "data": {
      "text/plain": [
       "'parangaricutirimicuarolina'"
      ]
     },
     "execution_count": 46,
     "metadata": {},
     "output_type": "execute_result"
    }
   ],
   "source": [
    "a"
   ]
  },
  {
   "cell_type": "code",
   "execution_count": 47,
   "metadata": {},
   "outputs": [
    {
     "name": "stdout",
     "output_type": "stream",
     "text": [
      "a\n"
     ]
    }
   ],
   "source": [
    "print(a[len(a) - 1])"
   ]
  },
  {
   "cell_type": "code",
   "execution_count": 48,
   "metadata": {},
   "outputs": [
    {
     "data": {
      "text/plain": [
       "26"
      ]
     },
     "execution_count": 48,
     "metadata": {},
     "output_type": "execute_result"
    }
   ],
   "source": [
    "len(a)"
   ]
  },
  {
   "cell_type": "code",
   "execution_count": 49,
   "metadata": {},
   "outputs": [
    {
     "name": "stdout",
     "output_type": "stream",
     "text": [
      "u\n"
     ]
    }
   ],
   "source": [
    "print(a[10])"
   ]
  },
  {
   "cell_type": "code",
   "execution_count": 50,
   "metadata": {},
   "outputs": [
    {
     "name": "stdout",
     "output_type": "stream",
     "text": [
      "n\n"
     ]
    }
   ],
   "source": [
    "print(a[24])"
   ]
  },
  {
   "cell_type": "code",
   "execution_count": 51,
   "metadata": {},
   "outputs": [
    {
     "name": "stdout",
     "output_type": "stream",
     "text": [
      "a\n"
     ]
    }
   ],
   "source": [
    "print(a[len(a)-1])"
   ]
  },
  {
   "cell_type": "code",
   "execution_count": 52,
   "metadata": {},
   "outputs": [
    {
     "name": "stdout",
     "output_type": "stream",
     "text": [
      "a\n"
     ]
    }
   ],
   "source": [
    "print(a[-1])"
   ]
  },
  {
   "cell_type": "code",
   "execution_count": 53,
   "metadata": {},
   "outputs": [
    {
     "name": "stdout",
     "output_type": "stream",
     "text": [
      "26\n",
      "<class 'int'>\n",
      "p\n"
     ]
    }
   ],
   "source": [
    "lena = len(a)\n",
    "print(lena)\n",
    "print(type(lena))\n",
    "print(a[-lena])"
   ]
  },
  {
   "cell_type": "markdown",
   "metadata": {},
   "source": [
    "### Partición (slicing)"
   ]
  },
  {
   "cell_type": "markdown",
   "metadata": {},
   "source": [
    "Se pueden generar sub-cadenas de caracteres con la notación `slicing`. Otra combinación de caracteres con el caracter `\\` y el caracter `t` se emplea para tabular:"
   ]
  },
  {
   "cell_type": "code",
   "execution_count": 54,
   "metadata": {},
   "outputs": [
    {
     "name": "stdout",
     "output_type": "stream",
     "text": [
      "parangaricutirimicuarolina\n"
     ]
    }
   ],
   "source": [
    "a = \"parangaricutirimicuarolina\"\n",
    "print(a)"
   ]
  },
  {
   "cell_type": "markdown",
   "metadata": {},
   "source": [
    "a[\"Start\":\"Stop\"]"
   ]
  },
  {
   "cell_type": "code",
   "execution_count": 55,
   "metadata": {},
   "outputs": [
    {
     "name": "stdout",
     "output_type": "stream",
     "text": [
      "parangaric\n"
     ]
    }
   ],
   "source": [
    "print(a[0:10])          "
   ]
  },
  {
   "cell_type": "code",
   "execution_count": 56,
   "metadata": {},
   "outputs": [
    {
     "name": "stdout",
     "output_type": "stream",
     "text": [
      "Hola\t\t\tMundo!\n"
     ]
    }
   ],
   "source": [
    "a = \"Hola\" + \"\\t\\t\\t\" + \"Mundo!\"\n",
    "print(a)"
   ]
  },
  {
   "cell_type": "code",
   "execution_count": 57,
   "metadata": {},
   "outputs": [
    {
     "name": "stdin",
     "output_type": "stream",
     "text": [
      "Ingrese el nombre del usuario:  nombre\n",
      "Ingrese el apellido del usuario:  ap\n",
      "Ingrese un número consecutivo:  12\n",
      "Ingrese el dominio:  dom\n",
      "Ingrese el servicio:  ser\n",
      "Ingrese el país:  mx\n"
     ]
    },
    {
     "name": "stdout",
     "output_type": "stream",
     "text": [
      "n12@dom.ser.mx\n"
     ]
    }
   ],
   "source": [
    "nombre = input(\"Ingrese el nombre del usuario: \")\n",
    "apellido = input(\"Ingrese el apellido del usuario: \")\n",
    "numero = input(\"Ingrese un número consecutivo: \")\n",
    "arroba = \"@\"\n",
    "dot = \".\"\n",
    "dominio = input(\"Ingrese el dominio: \")\n",
    "servicio = input(\"Ingrese el servicio: \")\n",
    "pais = input(\"Ingrese el país: \")\n",
    "\n",
    "correo = nombre[0] + apellido[2:6] + numero + arroba + dominio + dot + servicio + dot + pais\n",
    "print(correo)"
   ]
  },
  {
   "cell_type": "code",
   "execution_count": 123,
   "metadata": {},
   "outputs": [
    {
     "name": "stdout",
     "output_type": "stream",
     "text": [
      "No Python documentation found for 'endswith'.\n",
      "Use help() to get the interactive help utility.\n",
      "Use help(str) for help on the str class.\n",
      "\n"
     ]
    }
   ],
   "source": [
    "help(\"endswith\")"
   ]
  },
  {
   "cell_type": "markdown",
   "metadata": {},
   "source": [
    "[Volver a la Tabla de Contenido](#TOC)"
   ]
  },
  {
   "cell_type": "markdown",
   "metadata": {
    "slideshow": {
     "slide_type": "slide"
    }
   },
   "source": [
    "## I/O Estándar"
   ]
  },
  {
   "cell_type": "markdown",
   "metadata": {
    "slideshow": {
     "slide_type": "-"
    }
   },
   "source": [
    "- En *Python3* la función estandar para el ingreso de datos por teclado es `input()`\n",
    "\n",
    "\n",
    "- En *Python2* es `raw_input()`\n",
    "\n",
    "\n",
    "- La salida por defecto es la función `print()`, que si bien es la más \"simplista\" no es la más elegante.\n"
   ]
  },
  {
   "cell_type": "code",
   "execution_count": 124,
   "metadata": {
    "slideshow": {
     "slide_type": "subslide"
    }
   },
   "outputs": [
    {
     "name": "stdin",
     "output_type": "stream",
     "text": [
      "Cuál es tu peso? 100\n"
     ]
    },
    {
     "name": "stdout",
     "output_type": "stream",
     "text": [
      "<class 'float'>\n",
      "<class 'float'>\n",
      "Hola 100.0\n"
     ]
    }
   ],
   "source": [
    "nombre = float(input(\"Cuál es tu peso?\"))\n",
    "print(type(nombre))\n",
    "peso1 = nombre*3.5\n",
    "print(type(peso1))\n",
    "print(\"Hola\", nombre)"
   ]
  },
  {
   "cell_type": "code",
   "execution_count": 127,
   "metadata": {
    "slideshow": {
     "slide_type": "subslide"
    }
   },
   "outputs": [
    {
     "name": "stdin",
     "output_type": "stream",
     "text": [
      "Cuál es tu nombre?  Nombre1\n"
     ]
    },
    {
     "name": "stdout",
     "output_type": "stream",
     "text": [
      "mucho gusto Nombre1!\n"
     ]
    },
    {
     "name": "stdin",
     "output_type": "stream",
     "text": [
      "y cuál es tu edad?  10\n"
     ]
    },
    {
     "name": "stdout",
     "output_type": "stream",
     "text": [
      "su edad es  20\n",
      "entonces tienes 20 años, Nombre1!\n"
     ]
    }
   ],
   "source": [
    "nombre = input(\"Cuál es tu nombre? \")\n",
    "print(\"mucho gusto \" + nombre + \"!\")\n",
    "edad1 =int(input(\"y cuál es tu edad? \"))\n",
    "edad = edad1 + 10\n",
    "print(\"su edad es \", edad)\n",
    "print(\"entonces tienes \" + str(edad) + \" años, \" + nombre + \"!\")"
   ]
  },
  {
   "cell_type": "code",
   "execution_count": 128,
   "metadata": {},
   "outputs": [
    {
     "data": {
      "text/plain": [
       "80"
      ]
     },
     "execution_count": 128,
     "metadata": {},
     "output_type": "execute_result"
    }
   ],
   "source": [
    "4*edad"
   ]
  },
  {
   "cell_type": "code",
   "execution_count": 131,
   "metadata": {
    "scrolled": true,
    "slideshow": {
     "slide_type": "subslide"
    }
   },
   "outputs": [
    {
     "name": "stdin",
     "output_type": "stream",
     "text": [
      "Ingrese un número:  3\n",
      "Ingrese otro número:  6\n"
     ]
    },
    {
     "name": "stdout",
     "output_type": "stream",
     "text": [
      "La división de 3 y 6 es 0.5\n"
     ]
    }
   ],
   "source": [
    "x = int(input(\"Ingrese un número: \"))\n",
    "y = int(input(\"Ingrese otro número: \"))\n",
    "xy  = x / y\n",
    "print('La división de ' + str(x) + ' y ' + str(y) + ' es ' + str(xy)) #error"
   ]
  },
  {
   "cell_type": "code",
   "execution_count": 133,
   "metadata": {
    "slideshow": {
     "slide_type": "subslide"
    }
   },
   "outputs": [
    {
     "name": "stdin",
     "output_type": "stream",
     "text": [
      "Ingrese un número:  10\n",
      "Ingrese otro número:  20\n"
     ]
    },
    {
     "name": "stdout",
     "output_type": "stream",
     "text": [
      "La suma de 10 y 20 es 1020.\n"
     ]
    }
   ],
   "source": [
    "x = input(\"Ingrese un número: \")\n",
    "y = input(\"Ingrese otro número: \")\n",
    "suma = x + y\n",
    "print('La suma de ', x, ' y ', y, ' es ', x+y, '.', sep='') #error"
   ]
  },
  {
   "cell_type": "code",
   "execution_count": 137,
   "metadata": {
    "slideshow": {
     "slide_type": "subslide"
    }
   },
   "outputs": [
    {
     "name": "stdin",
     "output_type": "stream",
     "text": [
      "Ingrese un número:  10\n",
      "Ingrese otro número:  20\n"
     ]
    },
    {
     "name": "stdout",
     "output_type": "stream",
     "text": [
      "La suma de 10 y 20 es 30.\n",
      "La suma de    10 y    20 es    30\n"
     ]
    }
   ],
   "source": [
    "x = int(input(\"Ingrese un número: \"))\n",
    "y = int(input(\"Ingrese otro número: \"))\n",
    "suma = x + y\n",
    "print('La suma de ', x, ' y ', y, ' es ', x+y, '.', sep='')\n",
    "print(\"La suma de %5d y %5d es %5d\" % (x, y, suma))"
   ]
  },
  {
   "cell_type": "code",
   "execution_count": 136,
   "metadata": {},
   "outputs": [
    {
     "name": "stdout",
     "output_type": "stream",
     "text": [
      "1545268.2356987568\n"
     ]
    }
   ],
   "source": [
    "pesos = 1545268.2356987568466849846516198141964\n",
    "print(pesos)"
   ]
  },
  {
   "cell_type": "markdown",
   "metadata": {
    "slideshow": {
     "slide_type": "slide"
    }
   },
   "source": [
    "### Formatación a la \"antigua\""
   ]
  },
  {
   "cell_type": "markdown",
   "metadata": {},
   "source": [
    "- La funcionalidad del `printf` de $\\texttt{C}$ está contenida en *Python*.\n",
    "\n",
    "\n",
    "- Para esto, se usa el operador módulo `%` para concatenar las cadenas de texto que conformarán el mensaje."
   ]
  },
  {
   "cell_type": "markdown",
   "metadata": {
    "slideshow": {
     "slide_type": "subslide"
    }
   },
   "source": [
    "<p float=\"center\">\n",
    "  <img src=\"https://github.com/carlosalvarezh/FundamentosProgramacion/blob/main/images/Sem03Img02.png?raw=true\" width=\"750\" />\n",
    "</p>\n",
    "\n",
    "Recuperado de: http://www.python-course.eu/python3_formatted_output.php"
   ]
  },
  {
   "cell_type": "code",
   "execution_count": 140,
   "metadata": {},
   "outputs": [
    {
     "name": "stdout",
     "output_type": "stream",
     "text": [
      "Art:  845, que es una yuca Price per unit: 3256.33 que es una yuca\n",
      "Art:  845, que es una yuca Price per unit: 3256.33 que es una yuca\n"
     ]
    }
   ],
   "source": [
    "articulo = 845\n",
    "nombre = \"yuca\"\n",
    "precio = 3256.3289\n",
    "\n",
    "print(\"Art:%5d, que es una %s Price per unit: %1.2f que es una %s\" % (articulo, nombre, precio, nombre))\n",
    "print(\"Art:%5d, que es una %s Price per unit: %3.2f que es una %s\" % (articulo, nombre, precio, nombre))"
   ]
  },
  {
   "cell_type": "markdown",
   "metadata": {},
   "source": [
    "- Al lado izquierdo del operador módulo, se encuentra el llamado formato de cadena de caracteres y al lado derecho hay una tupla con el contenido.\n",
    "\n",
    "\n",
    "- Los valores pueden ser literales, variables o expresiones aritméticas arbitrarias.\n",
    "\n",
    "\n",
    "- El formato visto contiene lo que se denominan *marcadores de posición*. En el ejemplo hay dos: `%5d` y `%8.2f`"
   ]
  },
  {
   "cell_type": "markdown",
   "metadata": {
    "slideshow": {
     "slide_type": "subslide"
    }
   },
   "source": [
    "<p float=\"center\">\n",
    "  <img src=\"https://github.com/carlosalvarezh/FundamentosProgramacion/blob/main/images/Sem03Img03.png?raw=true\" width=\"350\" />\n",
    "</p>\n",
    "\n",
    "\n",
    "Recuperado de: http://www.python-course.eu/python3_formatted_output.php"
   ]
  },
  {
   "cell_type": "markdown",
   "metadata": {
    "slideshow": {
     "slide_type": "subslide"
    }
   },
   "source": [
    "<p float=\"center\">\n",
    "  <img src=\"https://github.com/carlosalvarezh/FundamentosProgramacion/blob/main/images/Sem03Img04.png?raw=true\" width=\"500\" />\n",
    "</p>\n",
    "\n",
    "Recuperado de: http://www.python-course.eu/python3_formatted_output.php"
   ]
  },
  {
   "cell_type": "markdown",
   "metadata": {
    "slideshow": {
     "slide_type": "slide"
    }
   },
   "source": [
    "### Formatos de salida"
   ]
  },
  {
   "cell_type": "markdown",
   "metadata": {},
   "source": [
    "| Identificador    | Formato           |\n",
    "| ----------------:|:-----------------:|\n",
    "| %s               | Cadena (string)   |\n",
    "| %d               | Entero (integer)  |\n",
    "| %o               | Octal             |\n",
    "| %x               | Hexadecimal       |\n",
    "| %f               | Flotante          |"
   ]
  },
  {
   "cell_type": "code",
   "execution_count": 62,
   "metadata": {
    "slideshow": {
     "slide_type": "subslide"
    }
   },
   "outputs": [
    {
     "name": "stdin",
     "output_type": "stream",
     "text": [
      "Ingrese un número:  4\n",
      "Ingrese otro número:  5\n"
     ]
    },
    {
     "name": "stdout",
     "output_type": "stream",
     "text": [
      "La suma de 4 y 5 es 9\n"
     ]
    }
   ],
   "source": [
    "x = int(input(\"Ingrese un número: \"))\n",
    "y = int(input(\"Ingrese otro número: \"))\n",
    "suma = x + y\n",
    "print(\"La suma de %d y %d es %d\" % (x,y,suma)) "
   ]
  },
  {
   "cell_type": "code",
   "execution_count": 143,
   "metadata": {
    "slideshow": {
     "slide_type": "subslide"
    }
   },
   "outputs": [
    {
     "name": "stdout",
     "output_type": "stream",
     "text": [
      " 3.561e+02\n",
      " 3.561E+02\n",
      "Un signo de porcentaje: % \n",
      "Un signo de porcentaje: % \n",
      "este es un entero 3 y 3 y 3\n"
     ]
    }
   ],
   "source": [
    "print(\"%10.3e\"% (356.08977))\n",
    "print(\"%10.3E\"% (356.08977))\n",
    "print(\"Un signo de porcentaje: %% \" % ())\n",
    "print(\"Un signo de porcentaje: % \")\n",
    "print(\"este es un entero %d y %d y %d\" % (3, 3, 3))"
   ]
  },
  {
   "cell_type": "code",
   "execution_count": null,
   "metadata": {
    "slideshow": {
     "slide_type": "subslide"
    }
   },
   "outputs": [],
   "source": [
    "print(\"Por la compra de %d %s y %d %s debes $%f \" % (5, \"manzanas\", 7, \"peras\", 2500.50))"
   ]
  },
  {
   "cell_type": "code",
   "execution_count": 63,
   "metadata": {
    "slideshow": {
     "slide_type": "subslide"
    }
   },
   "outputs": [
    {
     "name": "stdout",
     "output_type": "stream",
     "text": [
      "Por la compra de 5 manzanas y 7 peras debes $2500.50 \n"
     ]
    }
   ],
   "source": [
    "print(\"Por la compra de %d %s y %d %s debes $%0.2f \" % (5, \"manzanas\", 7, \"peras\", 2500.50))"
   ]
  },
  {
   "cell_type": "code",
   "execution_count": null,
   "metadata": {},
   "outputs": [],
   "source": []
  },
  {
   "cell_type": "markdown",
   "metadata": {
    "slideshow": {
     "slide_type": "slide"
    }
   },
   "source": [
    "### Formatación *Pytonista* (string format)"
   ]
  },
  {
   "cell_type": "markdown",
   "metadata": {},
   "source": [
    "<p float=\"center\">\n",
    "  <img src=\"https://github.com/carlosalvarezh/FundamentosProgramacion/blob/main/images/Sem03Img05.png?raw=true\" width=\"750\" />\n",
    "</p>\n"
   ]
  },
  {
   "cell_type": "code",
   "execution_count": 64,
   "metadata": {},
   "outputs": [
    {
     "name": "stdout",
     "output_type": "stream",
     "text": [
      "una yuca cuyo Price per unit: 3256.33, del Art:   845,que es una yuca\n"
     ]
    }
   ],
   "source": [
    "articulo = 845\n",
    "nombre = \"yuca\"\n",
    "precio = 3256.3289\n",
    "\n",
    "print(\"una {1:s} cuyo Price per unit: {2:1.2f}, del Art: {0:5d},que es una {1:s}\".format(articulo,nombre, precio))"
   ]
  },
  {
   "cell_type": "code",
   "execution_count": 1,
   "metadata": {
    "slideshow": {
     "slide_type": "subslide"
    }
   },
   "outputs": [
    {
     "name": "stdout",
     "output_type": "stream",
     "text": [
      "Primer argumento: texto, segundo argumento: texto\n"
     ]
    }
   ],
   "source": [
    "txt = \"texto\"\n",
    "print(\"Primer argumento: {0}, segundo argumento: {0}\".format(txt))"
   ]
  },
  {
   "cell_type": "code",
   "execution_count": 2,
   "metadata": {
    "slideshow": {
     "slide_type": "subslide"
    }
   },
   "outputs": [
    {
     "name": "stdout",
     "output_type": "stream",
     "text": [
      "Segundo argumento: 11, primer argumento: 47\n"
     ]
    }
   ],
   "source": [
    "print(\"Segundo argumento: {1}, primer argumento: {0}\".format(47,11))"
   ]
  },
  {
   "cell_type": "code",
   "execution_count": 3,
   "metadata": {
    "slideshow": {
     "slide_type": "subslide"
    }
   },
   "outputs": [
    {
     "name": "stdout",
     "output_type": "stream",
     "text": [
      "Segundo argumento:  11, \n",
      "primer argumento: 47.42\n"
     ]
    }
   ],
   "source": [
    "print(\"Segundo argumento: {1:3d}, \\nprimer argumento: {0:5.2f}\".format(47.42,11))"
   ]
  },
  {
   "cell_type": "markdown",
   "metadata": {
    "slideshow": {
     "slide_type": "subslide"
    }
   },
   "source": [
    "[Aquí](http://www.python-course.eu/python3_formatted_output.php \"Formatting in Python\") encontrará información ampliada acerca de otros esquemas de formatación en *Python*: "
   ]
  },
  {
   "cell_type": "markdown",
   "metadata": {
    "slideshow": {
     "slide_type": "slide"
    }
   },
   "source": [
    "### Salto de Línea `\\n`"
   ]
  },
  {
   "cell_type": "code",
   "execution_count": 4,
   "metadata": {},
   "outputs": [
    {
     "name": "stdout",
     "output_type": "stream",
     "text": [
      "Hola\n",
      "mundo\n"
     ]
    }
   ],
   "source": [
    "print(\"Hola\\nmundo\")"
   ]
  },
  {
   "cell_type": "markdown",
   "metadata": {},
   "source": [
    "[Volver a la Tabla de Contenido](#TOC)"
   ]
  },
  {
   "cell_type": "markdown",
   "metadata": {
    "slideshow": {
     "slide_type": "slide"
    }
   },
   "source": [
    "## Laboratorio"
   ]
  },
  {
   "cell_type": "markdown",
   "metadata": {},
   "source": [
    "- ***Ejercicio 1.*** Queremos ejecutar las siguientes sentencias de asignación:\n",
    "    - ancho = 17\n",
    "    - alto = 12.0\n",
    "    - delimitador = \".\"\n",
    "\n",
    "    Para cada una de las siguentes expresiones, escriba el valor de la expresión y el tipo (del valor de la expresión)\n",
    "\n",
    "    - ancho / 2\n",
    "    - ancho / 2.0\n",
    "    - alto / 3\n",
    "    - 1 + 2 * 5\n",
    "    - delimitador * 5\n",
    "\n",
    "\n",
    "- ***Ejercicio 2.*** El volumen de una esfera de radio $r$ es $\\frac{4}{3} \\pi r^3$. Cuál es el volúmen de una esfera de radio 5?\n",
    "\n",
    "\n",
    "- ***Ejercicio 3.*** Suponga que el precio de un libro es de 57.500 y la librería tiene un 40\\% de descuento. Los costos de envío son \\$5.500\\$ para la primera copia y \\$1.500 \\$ por cada copia adicional. Cuál es el costo total de 60 copias? \n",
    "\n",
    "\n",
    "- ***Ejercicio 4.*** La fórmula de [Herón](https://es.wikipedia.org/wiki/Fórmula_de_Herón \"Fórmula de Herón\") ofrece una forma de obtener el área de un triángulo dados los lados $a$, $b$ y $c$: \n",
    "\n",
    "$$Área = \\sqrt{s(s-a)(s-b)(s-c)}$$ donde $$s=\\frac{a+b+c}{2}$$ \n",
    "\n",
    "Haga un programa en Python que calcule el área del triángulo empleando la fórmula de Herón y usando única y exclusivamente los comandos vistos hasta el momento."
   ]
  },
  {
   "cell_type": "code",
   "execution_count": 66,
   "metadata": {},
   "outputs": [
    {
     "name": "stdout",
     "output_type": "stream",
     "text": [
      "8.5\n",
      "<class 'float'>\n",
      "8.5\n",
      "<class 'float'>\n",
      "4.0\n",
      "<class 'float'>\n",
      "11\n",
      "<class 'int'>\n",
      ".....\n",
      "<class 'str'>\n"
     ]
    }
   ],
   "source": [
    "#Ejercicio 1. Queremos ejecutar las siguientes sentencias de asignación:\n",
    "\n",
    "ancho = 17\n",
    "alto = 12.0\n",
    "delimitador = \".\"\n",
    "#Para cada una de las siguentes expresiones, escriba el valor de la expresión y el tipo (del valor de la expresión)\n",
    "\n",
    "exp1 = ancho / 2\n",
    "exp2 = ancho / 2.0\n",
    "exp3 = alto / 3\n",
    "exp4 = 1 + 2 * 5\n",
    "exp5 = delimitador * 5\n",
    "print(exp1)\n",
    "print(type(exp1))\n",
    "print(exp2)\n",
    "print(type(exp2))\n",
    "print(exp3)\n",
    "print(type(exp3))\n",
    "print(exp4)\n",
    "print(type(exp4))\n",
    "print(exp5)\n",
    "print(type(exp5))"
   ]
  },
  {
   "cell_type": "code",
   "execution_count": 9,
   "metadata": {},
   "outputs": [
    {
     "name": "stdout",
     "output_type": "stream",
     "text": [
      "El volumen de una esfera de radio 5 es: 523.60\n"
     ]
    }
   ],
   "source": [
    "#Ejercicio 2. El volumen de una esfera de radio  𝑟  es  4/3𝜋𝑟^3 . Cuál es el volúmen de una esfera de radio 5?\n",
    "r=5\n",
    "v=(4/3)*3.1416*r**3\n",
    "print(\"El volumen de una esfera de radio {0:1d} es: {1:0.2f}\".format(r,v))"
   ]
  },
  {
   "cell_type": "code",
   "execution_count": null,
   "metadata": {},
   "outputs": [],
   "source": [
    "#Ejercicio 3. Suponga que el precio de un libro es de 57.500 y la librería tiene un 40% de descuento. \n",
    "#Los costos de envío son  5.500  para la primera copia y  1.500  por cada copia adicional.\n",
    "#Cuál es el costo total de 60 copias?"
   ]
  },
  {
   "cell_type": "code",
   "execution_count": 7,
   "metadata": {},
   "outputs": [
    {
     "name": "stdout",
     "output_type": "stream",
     "text": [
      "El costo total de 60 copias es:  $2,164.00\n"
     ]
    }
   ],
   "source": [
    "import locale\n",
    "#help(\"locale\")\n",
    "locale.setlocale(locale.LC_MONETARY, 'en_IN')\n",
    "precio=57.50\n",
    "desc=0.40\n",
    "envio1=5.5\n",
    "envion=1.5\n",
    "numlibros=60\n",
    "Costo60=(precio + precio*(numlibros-1))*(1-desc)+envio1+envion*(numlibros-1)\n",
    "print(\"El costo total de 60 copias es: \",locale.currency(Costo60, grouping=True))"
   ]
  },
  {
   "cell_type": "code",
   "execution_count": 77,
   "metadata": {},
   "outputs": [],
   "source": [
    "#Ejercicio 4. La fórmula de Herón ofrece una forma de obtener el área de un triángulo dados los lados  𝑎 ,  𝑏  y  𝑐 :\n",
    "#Area = raiz (  s(s-a)(s-b)(s-c) )\n",
    "#donde\n",
    "#𝑠=(𝑎+𝑏+𝑐) /2\n",
    "#Haga un programa en Python que calcule el área del triángulo empleando la fórmula de Herón y \n",
    "#usando única y exclusivamente los comandos vistos hasta el momento."
   ]
  },
  {
   "cell_type": "code",
   "execution_count": 9,
   "metadata": {},
   "outputs": [
    {
     "name": "stdin",
     "output_type": "stream",
     "text": [
      "Dame el lado a:  10\n",
      "Dame el lado b:  10\n",
      "Dame el lado c:  10\n"
     ]
    },
    {
     "name": "stdout",
     "output_type": "stream",
     "text": [
      "El área del triángulo con lados 10.00,10.00,10.00 es: 43.30\n"
     ]
    }
   ],
   "source": [
    "ladoa=float(input(\"Dame el lado a: \"))\n",
    "ladob=float(input(\"Dame el lado b: \"))\n",
    "ladoc=float(input(\"Dame el lado c: \"))\n",
    "s=(ladoa+ladob+ladoc)/2\n",
    "Area=(s*(s-ladoa)*(s-ladob)*(s-ladoc))**(1/2)\n",
    "print(\"El área del triángulo con lados {0:0.2f},{1:0.2f},{2:0.2f} es: {3:0.2f}\".format(ladoa,ladob,ladoc,Area))"
   ]
  }
 ],
 "metadata": {
  "anaconda-cloud": {},
  "kernelspec": {
   "display_name": "Python 3 (ipykernel)",
   "language": "python",
   "name": "python3"
  },
  "language_info": {
   "codemirror_mode": {
    "name": "ipython",
    "version": 3
   },
   "file_extension": ".py",
   "mimetype": "text/x-python",
   "name": "python",
   "nbconvert_exporter": "python",
   "pygments_lexer": "ipython3",
   "version": "3.9.12"
  },
  "latex_envs": {
   "LaTeX_envs_menu_present": true,
   "autocomplete": true,
   "bibliofile": "biblio.bib",
   "cite_by": "apalike",
   "current_citInitial": 1,
   "eqLabelWithNumbers": true,
   "eqNumInitial": 1,
   "hotkeys": {
    "equation": "Ctrl-E",
    "itemize": "Ctrl-I"
   },
   "labels_anchors": false,
   "latex_user_defs": false,
   "report_style_numbering": true,
   "user_envs_cfg": true
  },
  "toc": {
   "base_numbering": 1,
   "nav_menu": {},
   "number_sections": true,
   "sideBar": true,
   "skip_h1_title": true,
   "title_cell": "Table of Contents",
   "title_sidebar": "Contents",
   "toc_cell": true,
   "toc_position": {
    "height": "calc(100% - 180px)",
    "left": "10px",
    "top": "150px",
    "width": "165px"
   },
   "toc_section_display": true,
   "toc_window_display": true
  }
 },
 "nbformat": 4,
 "nbformat_minor": 4
}
